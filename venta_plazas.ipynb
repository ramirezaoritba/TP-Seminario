{
 "cells": [
  {
   "cell_type": "markdown",
   "metadata": {},
   "source": [
    "# Clasificación con data de hundimiento del Titanic"
   ]
  },
  {
   "cell_type": "code",
   "execution_count": 1,
   "metadata": {},
   "outputs": [],
   "source": [
    "# tomar información de distintas fuentes y generar métricas y modelos predictivos\n",
    "# El resultado debe ser guardado en postgres o parquet\n",
    "# crear visualizaciones para ilustrar el análisis y los datos"
   ]
  },
  {
   "cell_type": "code",
   "execution_count": 2,
   "metadata": {},
   "outputs": [],
   "source": [
    "# Utilizo un DataSet de un área de turismo, de mi lugar de trabajo.\n",
    "# por temas de confidencialidad, no muestro montos ni datos biográficos de personas.\n",
    "# la estructura del DataSet es la siguiente\n",
    "# HOTEL nombre del Hotel\n",
    "# ANIO para la cual se hizo la reserva\n",
    "# MES  para el cual se hizo la reserva\n",
    "# DIAS cantidad de día de la  reserva\n",
    "# HABITACIONES cantidad de habitaciones contratadas. No se cuenta con el dato de cantidade pasajeros, \n",
    "#              dado que se cobra por habitación"
   ]
  },
  {
   "cell_type": "code",
   "execution_count": 3,
   "metadata": {},
   "outputs": [],
   "source": [
    "import findspark\n",
    "findspark.init()"
   ]
  },
  {
   "cell_type": "code",
   "execution_count": 4,
   "metadata": {},
   "outputs": [],
   "source": [
    "from pyspark.sql import SparkSession\n",
    "spark = SparkSession.builder.appName('venta_de_plazas').getOrCreate()"
   ]
  },
  {
   "cell_type": "code",
   "execution_count": 5,
   "metadata": {},
   "outputs": [
    {
     "data": {
      "text/plain": [
       "'2.4.5'"
      ]
     },
     "execution_count": 5,
     "metadata": {},
     "output_type": "execute_result"
    }
   ],
   "source": [
    "spark.version"
   ]
  },
  {
   "cell_type": "code",
   "execution_count": 6,
   "metadata": {},
   "outputs": [],
   "source": [
    "dft = spark.read.csv('/dataset/venta_plazas.csv', header=True)"
   ]
  },
  {
   "cell_type": "code",
   "execution_count": 7,
   "metadata": {},
   "outputs": [
    {
     "name": "stdout",
     "output_type": "stream",
     "text": [
      "+----------------------------+--------------+------------------------+----+----+-------+-----+\n",
      "|HOTRAZONSOCIAL              |HOTLOCALIDAD  |ANIO                    |MES |DIAS|Importe|CARGO|\n",
      "+----------------------------+--------------+------------------------+----+----+-------+-----+\n",
      "|TRONADOR                    |MAR DEL PLATA |2020                    |4   |3   |9324   |1190 |\n",
      "|HOSTERÍA DEL CERRO          |VILLA CATEDRAL| SAN CARLOS DE BARILOCHE|2021|10  |7      |25991|\n",
      "|ARENA RESORT HOTEL          |FEDERACION    | ENTRE RIOS             |2022|4   |4      |38808|\n",
      "|ALTOS DE MERLO              |VILLA DE MERLO|2020                    |2   |8   |38880  |1161 |\n",
      "|TRONADOR                    |MAR DEL PLATA |2023                    |2   |4   |118800 |1161 |\n",
      "|PREMIUM TOWER SUITES MENDOZA|MENDOZA       |2022                    |7   |7   |65939  |1154 |\n",
      "|PREMIUM TOWER SUITES MENDOZA|MENDOZA       |2022                    |7   |7   |118664 |1180 |\n",
      "|PREMIUM TOWER SUITES MENDOZA|MENDOZA       |2022                    |7   |7   |110907 |1180 |\n",
      "|PREMIUM TOWER SUITES MENDOZA|MENDOZA       |2022                    |7   |7   |110907 |1180 |\n",
      "|TRONADOR                    |MAR DEL PLATA |2022                    |11  |2   |24640  |1180 |\n",
      "+----------------------------+--------------+------------------------+----+----+-------+-----+\n",
      "only showing top 10 rows\n",
      "\n"
     ]
    }
   ],
   "source": [
    "# utilizo el argumento truncate=false, para que me muestre todo el contenido del campo\n",
    "dft.show(10, truncate=False)"
   ]
  },
  {
   "cell_type": "code",
   "execution_count": 8,
   "metadata": {},
   "outputs": [
    {
     "name": "stdout",
     "output_type": "stream",
     "text": [
      "root\n",
      " |-- HOTRAZONSOCIAL: string (nullable = true)\n",
      " |-- HOTLOCALIDAD: string (nullable = true)\n",
      " |-- ANIO: string (nullable = true)\n",
      " |-- MES: string (nullable = true)\n",
      " |-- DIAS: string (nullable = true)\n",
      " |-- Importe: string (nullable = true)\n",
      " |-- CARGO: string (nullable = true)\n",
      "\n"
     ]
    }
   ],
   "source": [
    "dft.printSchema()"
   ]
  },
  {
   "cell_type": "code",
   "execution_count": 9,
   "metadata": {},
   "outputs": [],
   "source": [
    "# defino la función para castear los tipos en las columnas"
   ]
  },
  {
   "cell_type": "code",
   "execution_count": 10,
   "metadata": {},
   "outputs": [],
   "source": [
    "from pyspark.sql.types import DoubleType, IntegerType"
   ]
  },
  {
   "cell_type": "code",
   "execution_count": 11,
   "metadata": {},
   "outputs": [],
   "source": [
    "import pyspark.sql.functions as f"
   ]
  },
  {
   "cell_type": "code",
   "execution_count": 12,
   "metadata": {},
   "outputs": [],
   "source": [
    "def cast_cols(df, cols, new_type):\n",
    "  for col in cols: \n",
    "     df = df.withColumn(col, df[col].cast(new_type()))\n",
    "  return df"
   ]
  },
  {
   "cell_type": "code",
   "execution_count": 13,
   "metadata": {},
   "outputs": [],
   "source": [
    "integer_cols = ['ANIO', 'MES', 'MES', 'DIAS']"
   ]
  },
  {
   "cell_type": "code",
   "execution_count": 14,
   "metadata": {},
   "outputs": [],
   "source": [
    "dft = cast_cols(dft, integer_cols, IntegerType)"
   ]
  },
  {
   "cell_type": "code",
   "execution_count": 15,
   "metadata": {},
   "outputs": [],
   "source": [
    "dft = dft.withColumn('Importe', f.col('Importe').cast('double'))"
   ]
  },
  {
   "cell_type": "code",
   "execution_count": 16,
   "metadata": {},
   "outputs": [
    {
     "name": "stdout",
     "output_type": "stream",
     "text": [
      "root\n",
      " |-- HOTRAZONSOCIAL: string (nullable = true)\n",
      " |-- HOTLOCALIDAD: string (nullable = true)\n",
      " |-- ANIO: integer (nullable = true)\n",
      " |-- MES: integer (nullable = true)\n",
      " |-- DIAS: integer (nullable = true)\n",
      " |-- Importe: double (nullable = true)\n",
      " |-- CARGO: string (nullable = true)\n",
      "\n"
     ]
    }
   ],
   "source": [
    "dft.printSchema()"
   ]
  },
  {
   "cell_type": "code",
   "execution_count": 17,
   "metadata": {},
   "outputs": [],
   "source": [
    "# inpororo la función de spark para quitar los espacios en el nombre del Hotel, y hacer las agregaciones"
   ]
  },
  {
   "cell_type": "code",
   "execution_count": 18,
   "metadata": {},
   "outputs": [],
   "source": [
    "dft = dft.withColumn('HOTRAZONSOCIAL', f.trim(dft['HOTRAZONSOCIAL']))"
   ]
  },
  {
   "cell_type": "code",
   "execution_count": 19,
   "metadata": {},
   "outputs": [],
   "source": [
    "from datetime import datetime\n",
    "# Obtengo  el año actual\n",
    "anio_actual = datetime.now().year"
   ]
  },
  {
   "cell_type": "code",
   "execution_count": 20,
   "metadata": {},
   "outputs": [],
   "source": [
    "# Obtengo  el año anterioractual\n",
    "anio_anterior = anio_actual -1"
   ]
  },
  {
   "cell_type": "code",
   "execution_count": 21,
   "metadata": {},
   "outputs": [],
   "source": [
    "# Filtra los datos para mantener solo los registros con ANIO igual a anterior o actual\n",
    "filtered_data = dft.filter((f.col('ANIO') == anio_anterior) | (f.col('ANIO') == anio_actual))"
   ]
  },
  {
   "cell_type": "code",
   "execution_count": 22,
   "metadata": {},
   "outputs": [],
   "source": [
    "# Utiliza la función 'when' para crear dos columnas condicionales para anterior y actual\n",
    "filtered_data = filtered_data.withColumn('qty_anterior', f.when(f.col('ANIO') == anio_anterior, 1).otherwise(0))\n",
    "filtered_data = filtered_data.withColumn('qty_actual', f.when(f.col('ANIO') == anio_actual, 1).otherwise(0))"
   ]
  },
  {
   "cell_type": "code",
   "execution_count": 23,
   "metadata": {},
   "outputs": [],
   "source": [
    "# Luego, agrupa por 'HOTEL' y suma los valores condicionales para anterior y actual\n",
    "filtered_data = filtered_data.groupBy('HOTRAZONSOCIAL').agg(f.sum('qty_anterior').alias('qty_anterior'), f.sum('qty_actual').alias('qty_actual'))"
   ]
  },
  {
   "cell_type": "code",
   "execution_count": 24,
   "metadata": {},
   "outputs": [],
   "source": [
    "# Ordena los resultados en orden descendente por 'qty_actual'\n",
    "filtered_data = filtered_data.orderBy('qty_actual', ascending=False)"
   ]
  },
  {
   "cell_type": "code",
   "execution_count": 25,
   "metadata": {},
   "outputs": [
    {
     "name": "stdout",
     "output_type": "stream",
     "text": [
      "+---------------------------------+------------+----------+\n",
      "|HOTRAZONSOCIAL                   |qty_anterior|qty_actual|\n",
      "+---------------------------------+------------+----------+\n",
      "|DESIGN BUENOS AIRES              |221         |223       |\n",
      "|TRONADOR                         |195         |217       |\n",
      "|PARADISO PLAYA                   |121         |149       |\n",
      "|PORTAL DEL IGUAZÚ                |82          |140       |\n",
      "|CABAÑAS PUERTO HAMLET            |146         |138       |\n",
      "|SAVOIA - OSTENDE                 |137         |126       |\n",
      "|PREMIUM TOWER SUITES MENDOZA     |175         |120       |\n",
      "|HOWARD JOHNSON PLAZA BUENOS AIRES|116         |115       |\n",
      "|DESIGN BARILOCHE                 |62          |96        |\n",
      "|LAS CUMBRES                      |34          |88        |\n",
      "+---------------------------------+------------+----------+\n",
      "only showing top 10 rows\n",
      "\n"
     ]
    }
   ],
   "source": [
    "# Muestra los primeros 10 resultados sin truncar más vendidos\n",
    "filtered_data.show(10, truncate=False)"
   ]
  },
  {
   "cell_type": "code",
   "execution_count": 26,
   "metadata": {},
   "outputs": [],
   "source": [
    "# Ordena los resultados en orden asscendente por 'qty_actual'\n",
    "filtered_data = filtered_data.orderBy('qty_actual', ascending=True)"
   ]
  },
  {
   "cell_type": "code",
   "execution_count": 27,
   "metadata": {},
   "outputs": [
    {
     "name": "stdout",
     "output_type": "stream",
     "text": [
      "+-----------------------------+------------+----------+\n",
      "|HOTRAZONSOCIAL               |qty_anterior|qty_actual|\n",
      "+-----------------------------+------------+----------+\n",
      "|HOTEL LIBERTADOR ****        |1           |2         |\n",
      "|SOHO SUITES                  |4           |3         |\n",
      "|PREMIUM TOWER SAN LUIS       |19          |5         |\n",
      "|MÉRIT - PUERTO IGUAZÚ        |29          |8         |\n",
      "|PINARES PANORAMA SUITES & SPA|1           |9         |\n",
      "|HOTEL HUAICO                 |1           |11        |\n",
      "|RESIDENCIA PARQUE BONITO     |8           |14        |\n",
      "|SAN CARLOS INN               |4           |14        |\n",
      "|HOTEL SANTA ELÍA             |19          |16        |\n",
      "|ALTOS DE MERLO               |22          |27        |\n",
      "+-----------------------------+------------+----------+\n",
      "only showing top 10 rows\n",
      "\n"
     ]
    }
   ],
   "source": [
    "# Muestra los primeros 10 resultados sin truncar menos vendidos\n",
    "filtered_data.show(10, truncate=False)"
   ]
  },
  {
   "cell_type": "code",
   "execution_count": 28,
   "metadata": {},
   "outputs": [],
   "source": [
    "# Por la altura del año en donde se procesa, se deduce que los que tienen qty_actual en cero, \n",
    "# se debe a que dejaron de trabajar con el sector de turismo\n",
    "# Se eliminan del DataSet, ya que no se puede predecir sobre los mismos"
   ]
  },
  {
   "cell_type": "code",
   "execution_count": 29,
   "metadata": {},
   "outputs": [
    {
     "data": {
      "text/plain": [
       "7831"
      ]
     },
     "execution_count": 29,
     "metadata": {},
     "output_type": "execute_result"
    }
   ],
   "source": [
    "dft.count()"
   ]
  },
  {
   "cell_type": "code",
   "execution_count": 30,
   "metadata": {},
   "outputs": [],
   "source": [
    "# Filtra los hoteles en dft que cumplan con la condición requerida\n",
    "dft = dft.join(\n",
    "    filtered_data,\n",
    "    ['HOTRAZONSOCIAL'],\n",
    "    'left_outer'\n",
    ")"
   ]
  },
  {
   "cell_type": "code",
   "execution_count": 31,
   "metadata": {},
   "outputs": [
    {
     "data": {
      "text/plain": [
       "7831"
      ]
     },
     "execution_count": 31,
     "metadata": {},
     "output_type": "execute_result"
    }
   ],
   "source": [
    "dft.count()"
   ]
  },
  {
   "cell_type": "code",
   "execution_count": 32,
   "metadata": {},
   "outputs": [],
   "source": [
    "# Elimino los cargos 9638 y JJJJ, porque al tratarse de Jubilados, no se puede obtener el sueldo y no son referencia"
   ]
  },
  {
   "cell_type": "code",
   "execution_count": 33,
   "metadata": {},
   "outputs": [],
   "source": [
    "dft = dft.filter((f.col('CARGO') != '9638') & (f.col('CARGO') != 'JJJJ') )"
   ]
  },
  {
   "cell_type": "code",
   "execution_count": 34,
   "metadata": {},
   "outputs": [
    {
     "data": {
      "text/plain": [
       "7260"
      ]
     },
     "execution_count": 34,
     "metadata": {},
     "output_type": "execute_result"
    }
   ],
   "source": [
    "dft.count()"
   ]
  },
  {
   "cell_type": "code",
   "execution_count": 35,
   "metadata": {},
   "outputs": [],
   "source": [
    "# Leo los sueldos, con sus incrementos"
   ]
  },
  {
   "cell_type": "code",
   "execution_count": 36,
   "metadata": {},
   "outputs": [],
   "source": [
    "dfs = spark.read.csv('/dataset/salarios.csv', header=True)"
   ]
  },
  {
   "cell_type": "code",
   "execution_count": 37,
   "metadata": {},
   "outputs": [
    {
     "name": "stdout",
     "output_type": "stream",
     "text": [
      "root\n",
      " |-- Anio: string (nullable = true)\n",
      " |-- Mes: string (nullable = true)\n",
      " |-- Cargo: string (nullable = true)\n",
      " |-- Descripción: string (nullable = true)\n",
      " |-- Sueldo: string (nullable = true)\n",
      "\n"
     ]
    }
   ],
   "source": [
    "dfs.printSchema()"
   ]
  },
  {
   "cell_type": "code",
   "execution_count": 38,
   "metadata": {},
   "outputs": [],
   "source": [
    "# convierto los campos"
   ]
  },
  {
   "cell_type": "code",
   "execution_count": 39,
   "metadata": {},
   "outputs": [],
   "source": [
    "integer_cols = ['ANIO', 'MES']\n",
    "dfs = cast_cols(dfs, integer_cols, IntegerType)"
   ]
  },
  {
   "cell_type": "code",
   "execution_count": 40,
   "metadata": {},
   "outputs": [
    {
     "name": "stdout",
     "output_type": "stream",
     "text": [
      "root\n",
      " |-- ANIO: integer (nullable = true)\n",
      " |-- MES: integer (nullable = true)\n",
      " |-- Cargo: string (nullable = true)\n",
      " |-- Descripción: string (nullable = true)\n",
      " |-- Sueldo: string (nullable = true)\n",
      "\n"
     ]
    }
   ],
   "source": [
    "dfs.printSchema()"
   ]
  },
  {
   "cell_type": "code",
   "execution_count": 41,
   "metadata": {},
   "outputs": [],
   "source": [
    "dfs = dfs.withColumn('Sueldo', f.col('Sueldo').cast('double'))"
   ]
  },
  {
   "cell_type": "code",
   "execution_count": 42,
   "metadata": {},
   "outputs": [],
   "source": [
    "from pyspark.sql.window import Window"
   ]
  },
  {
   "cell_type": "code",
   "execution_count": 43,
   "metadata": {},
   "outputs": [],
   "source": [
    "# Define una ventana ordenada por 'CARGO', 'ANIO' y 'MES' para usarla en la operación de unión\n",
    "window = Window.partitionBy('CARGO').orderBy('ANIO', 'MES')"
   ]
  },
  {
   "cell_type": "code",
   "execution_count": 44,
   "metadata": {},
   "outputs": [],
   "source": [
    "# Agrega una columna de rango para determinar el orden de los registros en 'dfs'\n",
    "dfs = dfs.withColumn('rank', f.row_number().over(window))"
   ]
  },
  {
   "cell_type": "code",
   "execution_count": 45,
   "metadata": {},
   "outputs": [],
   "source": [
    "# Filtra 'dfs' para mantener solo el valor más reciente de cada CARGO\n",
    "dfs = dfs.filter(f.col('rank') == 1).drop('rank')"
   ]
  },
  {
   "cell_type": "code",
   "execution_count": 46,
   "metadata": {},
   "outputs": [],
   "source": [
    "# Realiza una operación de unión (join) entre 'dft' y 'dfs' basada en 'CARGO', 'ANIO' y 'MES'\n",
    "result = dft.join(dfs, on=['CARGO', 'ANIO', 'MES'], how='left_outer')"
   ]
  },
  {
   "cell_type": "code",
   "execution_count": 47,
   "metadata": {},
   "outputs": [],
   "source": [
    "# Rellena los valores faltantes en 'sueldo' con el valor inmediatamente anterior si es nulo\n",
    "result = result.withColumn('sueldo', f.last('sueldo', ignorenulls=True).over(window))"
   ]
  },
  {
   "cell_type": "code",
   "execution_count": 48,
   "metadata": {},
   "outputs": [],
   "source": [
    "# Elimina la columna 'rank' que ya no es necesaria\n",
    "result = result.drop('rank')"
   ]
  },
  {
   "cell_type": "code",
   "execution_count": 49,
   "metadata": {},
   "outputs": [
    {
     "name": "stdout",
     "output_type": "stream",
     "text": [
      "root\n",
      " |-- CARGO: string (nullable = true)\n",
      " |-- ANIO: integer (nullable = true)\n",
      " |-- MES: integer (nullable = true)\n",
      " |-- HOTRAZONSOCIAL: string (nullable = true)\n",
      " |-- HOTLOCALIDAD: string (nullable = true)\n",
      " |-- DIAS: integer (nullable = true)\n",
      " |-- Importe: double (nullable = true)\n",
      " |-- qty_anterior: long (nullable = true)\n",
      " |-- qty_actual: long (nullable = true)\n",
      " |-- Descripción: string (nullable = true)\n",
      " |-- sueldo: double (nullable = true)\n",
      "\n"
     ]
    }
   ],
   "source": [
    "result.printSchema()"
   ]
  },
  {
   "cell_type": "code",
   "execution_count": 50,
   "metadata": {},
   "outputs": [
    {
     "data": {
      "text/plain": [
       "7260"
      ]
     },
     "execution_count": 50,
     "metadata": {},
     "output_type": "execute_result"
    }
   ],
   "source": [
    "result.count()"
   ]
  },
  {
   "cell_type": "code",
   "execution_count": 51,
   "metadata": {},
   "outputs": [],
   "source": [
    "import seaborn as sns"
   ]
  },
  {
   "cell_type": "code",
   "execution_count": 52,
   "metadata": {},
   "outputs": [
    {
     "data": {
      "image/png": "[encoded data removed]",
      "text/plain": [
       "<Figure size 432x288 with 2 Axes>"
      ]
     },
     "metadata": {
      "needs_background": "light"
     },
     "output_type": "display_data"
    }
   ],
   "source": [
    "g = sns.heatmap(result.select('CARGO', 'Importe', 'sueldo').toPandas().corr(),\n",
    "                annot=True, fmt = \".2f\", cmap = \"coolwarm\")"
   ]
  },
  {
   "cell_type": "code",
   "execution_count": 53,
   "metadata": {},
   "outputs": [],
   "source": [
    "# Implemento un modelo con árboles de decision"
   ]
  },
  {
   "cell_type": "code",
   "execution_count": 54,
   "metadata": {},
   "outputs": [],
   "source": [
    "from pyspark.sql import SparkSession\n",
    "from pyspark.ml.regression import DecisionTreeRegressor\n",
    "from pyspark.ml.feature import VectorAssembler"
   ]
  },
  {
   "cell_type": "code",
   "execution_count": 55,
   "metadata": {},
   "outputs": [],
   "source": [
    "result = result.na.drop()"
   ]
  },
  {
   "cell_type": "code",
   "execution_count": 56,
   "metadata": {},
   "outputs": [],
   "source": [
    "feature_columns = [\"ANIO\", \"MES\", \"Importe\", \"DIAS\", \"qty_anterior\", \"qty_actual\"]"
   ]
  },
  {
   "cell_type": "code",
   "execution_count": 57,
   "metadata": {},
   "outputs": [],
   "source": [
    "assembler = VectorAssembler(inputCols=feature_columns, outputCol=\"features\", handleInvalid=\"keep\")"
   ]
  },
  {
   "cell_type": "code",
   "execution_count": 58,
   "metadata": {},
   "outputs": [],
   "source": [
    "spark = SparkSession.builder.appName(\"DecisionTreeRegression\").getOrCreate()"
   ]
  },
  {
   "cell_type": "code",
   "execution_count": 59,
   "metadata": {},
   "outputs": [],
   "source": [
    "assembler = VectorAssembler(inputCols=feature_columns, outputCol=\"features\")"
   ]
  },
  {
   "cell_type": "code",
   "execution_count": 60,
   "metadata": {},
   "outputs": [],
   "source": [
    "result = assembler.transform(result)"
   ]
  },
  {
   "cell_type": "code",
   "execution_count": 61,
   "metadata": {},
   "outputs": [],
   "source": [
    "train_data, test_data = result.randomSplit([0.8, 0.2], seed=20993750)"
   ]
  },
  {
   "cell_type": "code",
   "execution_count": 62,
   "metadata": {},
   "outputs": [],
   "source": [
    "dt = DecisionTreeRegressor(featuresCol=\"features\", labelCol=\"DIAS\")\n",
    "model = dt.fit(train_data)"
   ]
  },
  {
   "cell_type": "code",
   "execution_count": 63,
   "metadata": {},
   "outputs": [],
   "source": [
    "predictions = model.transform(test_data)"
   ]
  },
  {
   "cell_type": "code",
   "execution_count": 64,
   "metadata": {},
   "outputs": [],
   "source": [
    "from pyspark.ml.evaluation import RegressionEvaluator"
   ]
  },
  {
   "cell_type": "code",
   "execution_count": 65,
   "metadata": {},
   "outputs": [
    {
     "name": "stdout",
     "output_type": "stream",
     "text": [
      "Mean Squared Error (MSE): 0.25000000000000006\n"
     ]
    }
   ],
   "source": [
    "evaluator = RegressionEvaluator(labelCol=\"DIAS\", predictionCol=\"prediction\", metricName=\"mse\")\n",
    "mse = evaluator.evaluate(predictions)\n",
    "print(\"Mean Squared Error (MSE):\", mse)"
   ]
  },
  {
   "cell_type": "code",
   "execution_count": 68,
   "metadata": {},
   "outputs": [],
   "source": [
    "# Se especifica la ruta y nombre donde se guardará el archivo Parquet\n",
    "archivo_guardado = \"/dataset/archivo_parquet/estadisticaplaza.parquet\"\n",
    "\n",
    "# Utiliza el método write.parquet() para guardar el DataFrame en formato Parquet\n",
    "result.write.parquet(archivo_guardado)"
   ]
  },
  {
   "cell_type": "code",
   "execution_count": 69,
   "metadata": {},
   "outputs": [],
   "source": [
    "spark.stop()"
   ]
  },
  {
   "cell_type": "code",
   "execution_count": null,
   "metadata": {},
   "outputs": [],
   "source": []
  }
 ],
 "metadata": {
  "kernelspec": {
   "display_name": "Python 3",
   "language": "python",
   "name": "python3"
  },
  "language_info": {
   "codemirror_mode": {
    "name": "ipython",
    "version": 3
   },
   "file_extension": ".py",
   "mimetype": "text/x-python",
   "name": "python",
   "nbconvert_exporter": "python",
   "pygments_lexer": "ipython3",
   "version": "3.7.3"
  }
 },
 "nbformat": 4,
 "nbformat_minor": 2
}
